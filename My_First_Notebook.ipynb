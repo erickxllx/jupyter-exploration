{
 "cells": [
  {
   "cell_type": "code",
   "execution_count": null,
   "id": "1ec18eae-ba65-4742-aa47-3d18b16aa93c",
   "metadata": {},
   "outputs": [],
   "source": [
    "Markdown"
   ]
  },
  {
   "cell_type": "code",
   "execution_count": null,
   "id": "0b7cb8a3-1caf-4111-80cb-3ec4667e655d",
   "metadata": {},
   "outputs": [],
   "source": [
    "My first markdown cell in Jupyter."
   ]
  },
  {
   "cell_type": "code",
   "execution_count": 1,
   "id": "fd00d4a5-a99f-49ea-926a-869d5bac8a65",
   "metadata": {},
   "outputs": [
    {
     "name": "stdout",
     "output_type": "stream",
     "text": [
      "Hello, World!\n"
     ]
    }
   ],
   "source": [
    "print(\"Hello, World!\")"
   ]
  },
  {
   "cell_type": "code",
   "execution_count": null,
   "id": "48cbf397-e0b1-400b-8fd7-2cf8ae175b91",
   "metadata": {},
   "outputs": [],
   "source": []
  }
 ],
 "metadata": {
  "kernelspec": {
   "display_name": "Python 3 (ipykernel)",
   "language": "python",
   "name": "python3"
  },
  "language_info": {
   "codemirror_mode": {
    "name": "ipython",
    "version": 3
   },
   "file_extension": ".py",
   "mimetype": "text/x-python",
   "name": "python",
   "nbconvert_exporter": "python",
   "pygments_lexer": "ipython3",
   "version": "3.10.6"
  }
 },
 "nbformat": 4,
 "nbformat_minor": 5
}
