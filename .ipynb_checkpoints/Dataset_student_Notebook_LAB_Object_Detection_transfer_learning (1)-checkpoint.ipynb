{
  "cells": [
    {
      "cell_type": "markdown",
      "id": "2414edc0",
      "metadata": {
        "id": "2414edc0"
      },
      "source": [
        "\n",
        "# Object Detection using TensorFlow and Pascal VOC 2007 Dataset\n",
        "\n",
        "In this exercise, we will adapt our image classification task to an object detection task. Object detection involves not only classifying objects within an image but also localizing them with bounding boxes.\n",
        "\n",
        "Note: Due to the limited computational resources available, we'll be using a smaller subset of the Pascal VOC 2007 dataset and a lightweight object detection model. This might result in lower accuracy, but the focus of this exercise is on understanding the concepts and workflow of object detection.\n",
        "\n",
        "## Steps:\n",
        "1. Install (if necessary) and Import the libraries you will need for this project\n",
        "2. Load the Pascal VOC 2007 dataset\n",
        "3. Use a pre-trained object detection model (SSD MobileNet V2)\n",
        "4. Display detected objects with bounding boxes\n",
        "    "
      ]
    },
    {
      "cell_type": "code",
      "execution_count": null,
      "id": "29112b7e",
      "metadata": {
        "id": "29112b7e"
      },
      "outputs": [],
      "source": [
        "%pip install tensorflow tensorflow-hub tensorflow-datasets matplotlib\n"
      ]
    },
    {
      "cell_type": "code",
      "execution_count": null,
      "id": "99553a86",
      "metadata": {
        "id": "99553a86"
      },
      "outputs": [],
      "source": [
        "# Import necessary libraries\n",
        "import tensorflow as tf\n",
        "import tensorflow_hub as hub\n",
        "import tensorflow_datasets as tfds\n",
        "import numpy as np\n",
        "import matplotlib.pyplot as plt\n",
        "import matplotlib.patches as patches\n",
        "import cv2\n",
        "from PIL import Image\n",
        "import requests\n",
        "from io import BytesIO\n",
        "\n",
        "print(\"TensorFlow version:\", tf.__version__)\n",
        "print(\"TensorFlow Hub version:\", hub.__version__)"
      ]
    },
    {
      "cell_type": "markdown",
      "id": "9ad5ebb2",
      "metadata": {
        "id": "9ad5ebb2"
      },
      "source": [
        "\n",
        "### Load the VOC2007 dataset\n",
        "\n",
        "We will use the VOC2007 dataset, which contains images with annotations for object detection. For demonstration purposes, we will load a small subset of the dataset using TensorFlow Datasets.\n",
        "\n",
        "- VOC2007 is a dataset for object detection, segmentation, and image classification.\n",
        "- We define a function load_data to load the COCO dataset.\n",
        "- tfds.load is a function that downloads and prepares the dataset.\n",
        "- We use only 1% of the training data to keep the demonstration manageable.\n",
        "- shuffle_files=True ensures that we get a random sample of the dataset.\n",
        "- with_info=True returns additional information about the dataset, which we'll use later.\n",
        "\n",
        "- The PASCAL VOC2007 (Visual Object Classes) dataset is a widely used benchmark dataset for object recognition tasks in computer vision. It comprises a collection of images annotated with bounding boxes and class labels for objects belonging to 20 different categories.\n",
        "\n",
        "Key characteristics of the VOC2007 dataset:\n",
        "\n",
        "- Purpose: Primarily used for training and evaluating object detection algorithms, but also applicable to other tasks like image classification and semantic segmentation.\n",
        "- Object Categories: Includes a diverse set of 20 object classes, ranging from people and animals to vehicles and indoor items.\n",
        "- Data Format: The dataset provides images along with corresponding annotation files containing bounding box coordinates and class labels for each object in the image.\n",
        "- Image Variety: Features a wide range of images captured in diverse real-world scenarios, offering realistic challenges for object recognition models.\n",
        "- Benchmark: Serves as a standard benchmark for comparing the performance of different object detection algorithms, fostering progress in the field.\n",
        "\n",
        "Common use cases of the VOC2007 dataset:\n",
        "- Training: Used as training data to teach object detection models to identify and localize objects within images.\n",
        "- Evaluation: Employed to evaluate the performance of trained models by comparing their predictions against the ground truth annotations.\n",
        "- Research: Utilized in research to develop and test new object detection algorithms and techniques."
      ]
    },
    {
      "cell_type": "code",
      "execution_count": null,
      "id": "ca53d8ae",
      "metadata": {
        "id": "ca53d8ae"
      },
      "outputs": [],
      "source": [
        "import tensorflow_datasets as tfds\n",
        "import matplotlib.pyplot as plt\n",
        "\n",
        "# Load a smaller dataset\n",
        "def load_data(split='train'):\n",
        "    dataset, info = tfds.load('voc/2007', split=split, shuffle_files=True, with_info=True)\n",
        "    return dataset, info\n",
        "\n",
        "# Load the train dataset and extract info\n",
        "train_dataset, train_info = load_data('train[:10%]')\n",
        "\n",
        "# Load the validation dataset\n",
        "validation_dataset, validation_info = load_data('validation[:10%]')\n",
        "\n",
        "# Get class names\n",
        "class_names = train_info.features[\"objects\"][\"label\"].names  # Changed from ds_info to train_info\n",
        "print(\"Class names:\", class_names)\n",
        "\n"
      ]
    },
    {
      "cell_type": "code",
      "execution_count": null,
      "id": "394a8233",
      "metadata": {
        "id": "394a8233"
      },
      "outputs": [],
      "source": [
        "def display_examples(dataset, n=3):  # Display 'n' examples by default\n",
        "    for example in dataset.take(n):\n",
        "        image = example[\"image\"]\n",
        "        plt.figure(figsize=(5, 5))\n",
        "        plt.imshow(image)\n",
        "        plt.title(\"Image with Ground Truth Bounding Boxes\")\n",
        "\n",
        "        # Draw ground truth boxes\n",
        "        for box in example[\"objects\"][\"bbox\"]:\n",
        "            ymin, xmin, ymax, xmax = box\n",
        "            rect = patches.Rectangle((xmin * image.shape[1], ymin * image.shape[0]),\n",
        "                                    (xmax - xmin) * image.shape[1], (ymax - ymin) * image.shape[0],\n",
        "                                    linewidth=1, edgecolor='g', facecolor='none')\n",
        "            plt.gca().add_patch(rect)\n",
        "\n",
        "        plt.show()\n",
        "\n",
        "display_examples(train_dataset)\n",
        "\n"
      ]
    },
    {
      "cell_type": "markdown",
      "id": "0cd8c93b",
      "metadata": {
        "id": "0cd8c93b"
      },
      "source": [
        "### Find Images with Specific Classes\n",
        "\n",
        "We got  the list of all class names in the VOC2007 dataset and select images containing our target classes (e.g., person, car, bird).\n",
        "\n",
        "- `class_names` provides the list of class names.\n",
        "- `target_class_ids` contains the IDs of the classes we are interested in.\n",
        "- `find_images_with_classes` is a function to find images containing our target classes.\n"
      ]
    },
    {
      "cell_type": "markdown",
      "id": "ea1b5f4e",
      "metadata": {
        "id": "ea1b5f4e"
      },
      "source": [
        "### When To Load the model\n",
        "Loading the model early (right after dataset loading):\n",
        "\n",
        "Pros: Model is immediately available; clear separation of setup and processing.\n",
        "Cons: Potentially inefficient if data prep is extensive or fails.\n",
        "\n",
        "\n",
        "Loading the model after data preparation:\n",
        "\n",
        "Pros: More efficient resource use; avoids unnecessary loading if data prep fails.\n",
        "Cons: Model isn't available for any data prep steps that might need it.\n",
        "\n",
        "\n",
        "In our specific case, loading the model after data preparation is slightly better because:\n",
        "\n",
        "Our data prep doesn't need the model.\n",
        "It's more resource-efficient.\n",
        "It follows a logical flow: prepare data, load tools, process data.\n",
        "It avoids unnecessary model loading if data prep fails.\n",
        "\n",
        "However, the difference is minimal in this small-scale example. For beginners, loading major components upfront can sometimes be clearer and easier to follow.\n",
        "As a best practice, aim to load your model as close as possible to where you'll use it, ensuring all necessary data and resources are ready first."
      ]
    },
    {
      "cell_type": "code",
      "execution_count": null,
      "id": "b12b49aa",
      "metadata": {
        "id": "b12b49aa"
      },
      "outputs": [],
      "source": [
        "#Load a pre-trained object detection model\n",
        "detector = hub.load(\"https://tfhub.dev/tensorflow/ssd_mobilenet_v2/2\")"
      ]
    },
    {
      "cell_type": "markdown",
      "id": "d3ae757a",
      "metadata": {
        "id": "d3ae757a"
      },
      "source": [
        "Let's break this down:\n",
        "\n",
        "- 1. hub.load(): This function is from TensorFlow Hub (tensorflow_hub). It downloads and loads models from the TensorFlow Hub repository.\n",
        "- 2. \"https://tfhub.dev/tensorflow/ssd_mobilenet_v2/2\": This is the URL of the specific model we're loading. It's an SSD (Single Shot Detector) MobileNet V2 model, which is efficient for object detection tasks.\n",
        "- 3. Detector: The loaded model is assigned to this variable. It becomes a callable object that you can use for object detection.\n",
        "\n",
        "Advantages of this approach:\n",
        "\n",
        "Concise and readable\n",
        "Directly loads the model without additional wrapper functions\n",
        "TensorFlow Hub handles caching, so subsequent loads will be faster"
      ]
    },
    {
      "cell_type": "markdown",
      "id": "86360a19",
      "metadata": {
        "id": "86360a19"
      },
      "source": [
        "### Display Detected Objects with Bounding Boxes\n",
        "\n",
        "We will use the pre-trained model to detect objects in our selected images and display them with bounding boxes.\n",
        "\n",
        "- `detector` is the pre-trained object detection model.\n",
        "- `detect_objects` is a function that uses the model to detect objects in an image.\n",
        "- `display_detections` is a function to display the detected objects with bounding boxes.\n"
      ]
    },
    {
      "cell_type": "markdown",
      "id": "396c0a53",
      "metadata": {
        "id": "396c0a53"
      },
      "source": [
        "\n",
        "### Helper Function to Display Bounding Boxes on Images\n",
        "\n",
        "The `display_image_with_boxes` function takes an image, bounding boxes, and class names, then displays the image with bounding boxes drawn around detected objects.\n",
        "- run_detector: This function prepares an image and runs it through our object detection model.\n",
        "- plot_detections: This function visualizes the detected objects by drawing bounding boxes and labels on the image.\n",
        "\n",
        " process_uploaded_image which processes an uploaded image for object detection. The function takes the raw image data as input, preprocesses the image, runs the object detection model, and then plots and prints the detected objects."
      ]
    },
    {
      "cell_type": "code",
      "execution_count": null,
      "id": "d0fc8152",
      "metadata": {
        "id": "d0fc8152"
      },
      "outputs": [],
      "source": [
        "# Run Detector and Visualize\n",
        "def run_detector_and_visualize(example):\n",
        "    image = example[\"image\"]\n",
        "    ground_truth_boxes = example[\"objects\"][\"bbox\"]\n",
        "\n",
        "    # Preprocess and run detection\n",
        "    converted_img = tf.image.convert_image_dtype(image, tf.uint8)[tf.newaxis, ...]\n",
        "    result = detector(converted_img)\n",
        "    result = {key: value.numpy() for key, value in result.items()}\n",
        "\n",
        "    # Visualize results (with ground truth for comparison)\n",
        "    plt.figure(figsize=(10, 7))\n",
        "    plt.imshow(image)\n",
        "\n",
        "    # Ground truth boxes (VOC format is [xmin, ymin, xmax, ymax])\n",
        "    for box in ground_truth_boxes:\n",
        "        ymin, xmin, ymax, xmax = box\n",
        "        rect = patches.Rectangle((xmin * image.shape[1], ymin * image.shape[0]),\n",
        "                                (xmax - xmin) * image.shape[1], (ymax - ymin) * image.shape[0],\n",
        "                                linewidth=1, edgecolor='g', facecolor='none', label='Ground Truth')\n",
        "        plt.gca().add_patch(rect)\n",
        "\n",
        "    # Predicted boxes\n",
        "    for i, score in enumerate(result['detection_scores'][0]):\n",
        "        if score > 0.5:  # Confidence threshold\n",
        "            ymin, xmin, ymax, xmax = result['detection_boxes'][0][i]\n",
        "            class_id = int(result['detection_classes'][0][i])\n",
        "\n",
        "            # Handle invalid class IDs (classes outside the VOC dataset)\n",
        "            if class_id < len(class_names):\n",
        "                label = class_names[class_id]\n",
        "\n",
        "            rect = patches.Rectangle((xmin * image.shape[1], ymin * image.shape[0]),\n",
        "                                    (xmax - xmin) * image.shape[1], (ymax - ymin) * image.shape[0],\n",
        "                                    linewidth=1, edgecolor='r', facecolor='none', label='Predicted')\n",
        "            plt.gca().add_patch(rect)\n",
        "\n",
        "            # Moved plt.text to the correct loop for the predicted box\n",
        "            plt.text(xmin * image.shape[1], ymin * image.shape[0] - 5, f'{label}: {score:.2f}', color='white', backgroundcolor='r')\n",
        "\n",
        "    plt.legend()\n",
        "    plt.show()\n",
        "\n",
        "\n",
        "\n",
        "\n",
        "\n"
      ]
    },
    {
      "cell_type": "markdown",
      "id": "565b6ed3",
      "metadata": {
        "id": "565b6ed3"
      },
      "source": [
        "###   Process and Display Images with Detections\n",
        "The `detect_and_display` function runs object detection on an image and displays the results, as you saw above. The function converts the image to the appropriate format, runs the detector, and then uses the helper function to display the results.\n",
        "\n",
        " process_uploaded_image which processes an uploaded image for object detection. The function takes the raw image data as input, preprocesses the image, runs the object detection model, and then plots and prints the detected objects."
      ]
    },
    {
      "cell_type": "code",
      "execution_count": null,
      "id": "6e937b19",
      "metadata": {
        "collapsed": true,
        "id": "6e937b19"
      },
      "outputs": [],
      "source": [
        "# take a few examples from the training set\n",
        "for example in train_dataset.take(2):  # Process 2 images\n",
        "    run_detector_and_visualize(example)\n",
        "\n"
      ]
    },
    {
      "cell_type": "markdown",
      "id": "wXOchOCE9c5n",
      "metadata": {
        "id": "wXOchOCE9c5n"
      },
      "source": [
        "#### Your Turn\n",
        "Process a few images from the dataset\n",
        "print(\"\\nProcessing sample images from the dataset:\") for i, example in enumerate(train_dataset.take(3)): print(f\"\\nSample image {i+1}\") image = example['image'].numpy() detections = run_detector(detector, image) plot_detections(image, detections, class_names)"
      ]
    },
    {
      "cell_type": "markdown",
      "id": "cafd587f",
      "metadata": {
        "id": "cafd587f"
      },
      "source": [
        "## Mode Evaluation\n",
        "###  Define the Evaluation Function\n",
        "\n",
        " The function called evaluate_model_performance which evaluates the performance of our object detection model on a dataset. The function takes three arguments: the dataset to evaluate on, the object detection model, and the number of images to use for evaluation. It calculates and prints the accuracy of the model based on the detections.   "
      ]
    },
    {
      "cell_type": "code",
      "execution_count": null,
      "id": "24dc1ecf",
      "metadata": {
        "id": "24dc1ecf"
      },
      "outputs": [],
      "source": [
        "#Evaluate Model Performance\n",
        "def evaluate_model_performance(dataset, detector, iou_threshold=0.5, num_samples=100):\n",
        "    true_positives = 0\n",
        "    false_positives = 0\n",
        "    false_negatives = 0\n",
        "\n",
        "    for example in dataset.take(num_samples):\n",
        "        image = example[\"image\"].numpy()\n",
        "        gt_boxes = example[\"objects\"][\"bbox\"].numpy()\n",
        "        gt_labels = example[\"objects\"][\"label\"].numpy()\n",
        "\n",
        "        # Preprocess and run detection (same as before)\n",
        "        converted_img = tf.image.convert_image_dtype(image, tf.uint8)[tf.newaxis, ...]\n",
        "        result = detector(converted_img)\n",
        "        result = {key: value.numpy() for key, value in result.items()}\n",
        "        pred_boxes = result['detection_boxes'][0]\n",
        "        pred_scores = result['detection_scores'][0]\n",
        "        pred_labels = result['detection_classes'][0].astype(int)\n",
        "\n",
        "        # Iterate over predicted boxes\n",
        "        for i, score in enumerate(pred_scores):\n",
        "            if score < 0.5:  # Confidence threshold\n",
        "                continue\n",
        "\n",
        "            # Convert box coordinates to [ymin, xmin, ymax, xmax]\n",
        "            pred_box = pred_boxes[i]\n",
        "            pred_box = [pred_box[1], pred_box[0], pred_box[3], pred_box[2]]\n",
        "\n",
        "            # Find matching ground truth box (if any) based on IoU\n",
        "            best_iou = 0\n",
        "            for j, gt_box in enumerate(gt_boxes):\n",
        "                iou = calculate_iou(gt_box, pred_box)\n",
        "                if iou > best_iou:\n",
        "                    best_iou = iou\n",
        "                    gt_index = j\n",
        "\n",
        "            # If IoU exceeds threshold, check class match\n",
        "            if best_iou > iou_threshold:\n",
        "                if pred_labels[i] == gt_labels[gt_index]:\n",
        "                    true_positives += 1\n",
        "                else:\n",
        "                    false_positives += 1\n",
        "            else:\n",
        "                false_positives += 1\n",
        "\n",
        "        # Count false negatives (missed ground truth boxes)\n",
        "        false_negatives += len(gt_boxes) - true_positives\n",
        "\n",
        "    precision = true_positives / (true_positives + false_positives) if true_positives + false_positives > 0 else 0\n",
        "    recall = true_positives / (true_positives + false_negatives) if true_positives + false_negatives > 0 else 0\n",
        "\n",
        "    print(f\"Model Performance (IoU Threshold = {iou_threshold:.2f}):\")\n",
        "    print(f\"True Positives: {true_positives}\")\n",
        "    print(f\"False Positives: {false_positives}\")\n",
        "    print(f\"False Negatives: {false_negatives}\")\n",
        "    print(f\"Precision: {precision:.2f}\")\n",
        "    print(f\"Recall: {recall:.2f}\")\n",
        "\n",
        "# (You'll need to implement a 'calculate_iou' function)\n",
        "def calculate_iou(box1, box2):\n",
        "    \"\"\"Calculates the Intersection over Union (IoU) between two bounding boxes.\n",
        "\n",
        "    Args:\n",
        "        box1 (list): Coordinates of the first box in the format [ymin, xmin, ymax, xmax].\n",
        "        box2 (list): Coordinates of the second box in the same format.\n",
        "\n",
        "    Returns:\n",
        "        float: The IoU value (between 0 and 1).\n",
        "    \"\"\"\n",
        "\n",
        "    # 1. Calculate coordinates of the intersection rectangle\n",
        "    y1 = max(box1[0], box2[0])\n",
        "    x1 = max(box1[1], box2[1])\n",
        "    y2 = min(box1[2], box2[2])\n",
        "    x2 = min(box1[3], box2[3])\n",
        "\n",
        "    # 2. Calculate areas of the intersection and the union\n",
        "    intersection_area = max(0, y2 - y1) * max(0, x2 - x1)\n",
        "    box1_area = (box1[2] - box1[0]) * (box1[3] - box1[1])\n",
        "    box2_area = (box2[2] - box2[0]) * (box2[3] - box2[1])\n",
        "    union_area = box1_area + box2_area - intersection_area\n",
        "\n",
        "    # 3. Calculate IoU\n",
        "    if union_area == 0:\n",
        "        return 0  # Avoid division by zero\n",
        "    else:\n",
        "        iou = intersection_area / union_area\n",
        "        return iou\n",
        "\n",
        "# Evaluate model performance\n",
        "print(\"Evaluating model performance...\")\n",
        "evaluate_model_performance(validation_dataset, detector)  # Use test data for evaluation\n"
      ]
    },
    {
      "cell_type": "markdown",
      "id": "d8786f0d",
      "metadata": {
        "id": "d8786f0d"
      },
      "source": [
        "### Object Detection Evaluation Core Concepts\n",
        "\n",
        "* Object detection models need to be evaluated on two fronts:\n",
        "\n",
        "- Classification Accuracy: Did the model correctly identify the object's class (e.g., person, car, bird)?\n",
        "- Localization Accuracy: Did the model accurately draw a bounding box around the object?\n",
        "\n",
        " Our exercise  focuses on assessing localization accuracy using the Intersection over Union (IoU) metric.\n",
        "\n",
        "* Understanding IoU (Intersection over Union)\n",
        "\n",
        "IoU measures how much two bounding boxes overlap.\n",
        "\n",
        "- A perfect match (predicted box perfectly matches the ground truth box) has an IoU of 1.\n",
        "- No overlap has an IoU of 0.\n",
        "\n",
        "The iou_threshold in the code (default 0.5) means a predicted box is considered a \"true positive\" only if its IoU with a ground truth box is 0.5 or higher.\n",
        "\n",
        "* Output Interpretation:\n",
        "\n",
        "The function will print the following metrics:\n",
        "\n",
        "- True Positives (TP): The number of detected objects where both the class label and bounding box are correct (IoU above the threshold).\n",
        "- False Positives (FP): The number of detected objects that are either misclassified or have an IoU below the threshold.\n",
        "- False Negatives (FN): The number of ground truth objects that the model missed entirely.\n",
        "- Precision: The proportion of positive detections that were actually correct (TP / (TP + FP)). A high precision means the model makes few false alarms.\n",
        "- Recall: The proportion of actual positive objects that the model successfully detected (TP / (TP + FN)). A high recall means the model misses few objects.\n",
        "\n",
        "Example Results:\n",
        "Let's say the output is:\n",
        "\n",
        "Model Performance (IoU Threshold = 0.50):\n",
        "True Positives: 75\n",
        "False Positives: 20\n",
        "False Negatives: 15\n",
        "Precision: 0.79\n",
        "Recall: 0.83\n",
        "Interpretation:\n",
        "\n",
        "- The model correctly detected and localized 75 objects.\n",
        "- It made 20 incorrect detections (wrong class or poor box placement).\n",
        "- It missed 15 objects that were actually present in the images.\n",
        "- Precision is 0.79, meaning 79% of the model's positive detections were accurate.\n",
        "- Recall is 0.83, meaning the model found 83% of the actual objects in the images.\n",
        "\n",
        "* Key Takeaways:\n",
        "- Precision vs. Recall: There's often a trade-off between these two. Increasing the confidence threshold (e.g., to 0.6) might improve    precision (fewer false alarms) but likely lower recall (more missed objects).\n",
        "- IoU Threshold: The choice of IoU threshold significantly impacts the results. A higher threshold makes the evaluation stricter, potentially lowering both precision and recall.\n",
        "- Limitations: This evaluation only covers a limited number of samples (num_samples). For a more comprehensive assessment, you'd ideally use a larger and more diverse evaluation set.\n",
        "- Single Metric: Precision and recall alone don't tell the whole story. Consider using other metrics like F1 score (harmonic mean of precision and recall) for a more balanced view of performance.\n",
        "\n",
        "\n",
        "\n",
        "\n",
        "\n",
        "\n"
      ]
    },
    {
      "cell_type": "markdown",
      "id": "9be74ea3",
      "metadata": {
        "id": "9be74ea3"
      },
      "source": [
        "### Upload your Image\n",
        "This final block allows you to input your own image URL for object detection, making the exercise interactive.\n"
      ]
    },
    {
      "cell_type": "markdown",
      "id": "06664892",
      "metadata": {
        "id": "06664892"
      },
      "source": [
        " ### Instructions  to Upload Your Own Images"
      ]
    },
    {
      "cell_type": "code",
      "execution_count": null,
      "id": "oMokp0C_7NJb",
      "metadata": {
        "id": "oMokp0C_7NJb"
      },
      "outputs": [],
      "source": [
        "# Function to process uploaded images (for Google Colab)\n",
        "def process_uploaded_image(image_data):\n",
        "    \"\"\"Processes and displays detections for an uploaded image.\"\"\"\n",
        "    image = Image.open(BytesIO(image_data))\n",
        "    image_np = np.array(image)  # Convert PIL Image to NumPy array\n",
        "    detections = run_detector(detector, image_np)\n",
        "    plot_detections_with_heatmap(image_np, detections, class_names)\n",
        "\n",
        "    # Print detected objects (example)\n",
        "    print(\"Detected objects:\")\n",
        "    for i, score in enumerate(detections['detection_scores'][0]):\n",
        "        if score > 0.5:  # Confidence threshold\n",
        "            class_id = int(detections['detection_classes'][0][i])\n",
        "            label = class_names[class_id] if class_id < len(class_names) else \"UNKNOWN\"\n",
        "            print(f\"- {label} with confidence {score:.2f}\")\n",
        "\n",
        "# Instructions for image uploading (if in Google Colab)\n",
        "print(\"\\nTo upload your own image for object detection:\")\n",
        "print(\"1. If using Google Colab, use:\")\n",
        "print(\"   from google.colab import files\")\n",
        "print(\"   uploaded = files.upload()\")\n",
        "print(\"   image_data = next(iter(uploaded.values()))\")\n",
        "print(\"2. Then run:\")\n",
        "print(\"   process_uploaded_image(image_data)\")\n"
      ]
    },
    {
      "cell_type": "markdown",
      "id": "b0582fe7",
      "metadata": {
        "id": "b0582fe7"
      },
      "source": [
        "### Conclusion\n",
        "This exercise introduces you to object detection while keeping computational requirements relatively low. It uses a pre-trained model, so no training is required, making it suitable for systems with limited resources.\n",
        "\n",
        "Using pre-trained models for complex tasks\n",
        "The basics of object detection (bounding boxes, class labels, confidence scores)\n",
        "Visualizing detection results\n",
        "Simple analysis of detection outputs\n",
        "\n",
        "The exercise is also interactive, allowing students to try object detection on their own chosen images. Copy"
      ]
    },
    {
      "cell_type": "markdown",
      "id": "faf0aa9f",
      "metadata": {
        "id": "faf0aa9f"
      },
      "source": [
        "## Questions for Reflection and Analysis:\n",
        "1. **Conceptual Understanding:**\n",
        "- What is the main difference between image classification and object detection? How is this difference evident in the output of this exercise?\n",
        "- Explain why we chose the SSD MobileNet V2 model for this task. What are its advantages and limitations, especially in the context of limited computational resources?\n",
        "\n",
        "2. **Code Interpretation:**\n",
        "- Describe the role of the find_images_with_classes function. Why is it useful when working with a large dataset like COCO?\n",
        "- In the plot_detections function, how does the threshold value (threshold=0.5) impact the number of objects displayed?\n",
        "- Explain how the heatmap visualization helps you understand the model's confidence in its detections.\n",
        "\n",
        "3. **Observing Results and Limitations:**\n",
        "- Run the exercise multiple times. Which types of objects does the model tend to detect more accurately? Which ones are more challenging? Can you explain why?\n",
        "- Observe the bounding boxes. Are there any instances where the boxes are inaccurate or miss the object entirely? What factors in the images might be contributing to these errors?\n",
        "- How would you expect the accuracy of the model to change if we had used the entire Pascal VOC 2007 dataset instead of a small subset? Why?\n",
        "\n",
        "4. **Critical Thinking:**\n",
        "- How could you modify the code to detect a specific set of objects, like only animals or only vehicles?\n",
        "- If you wanted to train your own object detection model, what steps would you need to take? What are some challenges you might encounter?\n",
        "- Given the limitations of this model, in what real-world scenarios might it still be useful for object detection?\n",
        "\n",
        "5. **Going Further (Optional):** (Bonus points)\n",
        "- Research other object detection models available in TensorFlow Hub. Compare and contrast them with SSD MobileNet V2 in terms of accuracy, speed, and resource requirements.\n",
        "- Try running a few images through a more powerful object detection model online (if available). Compare the results to the output of this exercise. What differences do you notice?\n",
        "- Important: Remember, the goal here isn't perfect accuracy. It's to understand the core concepts of object detection, the limitations of working with restricted resources, and how to critically analyze the results.\n",
        "\n"
      ]
    }
  ],
  "metadata": {
    "accelerator": "GPU",
    "colab": {
      "gpuType": "L4",
      "machine_shape": "hm",
      "provenance": []
    },
    "kernelspec": {
      "display_name": "Python 3",
      "name": "python3"
    },
    "language_info": {
      "codemirror_mode": {
        "name": "ipython",
        "version": 3
      },
      "file_extension": ".py",
      "mimetype": "text/x-python",
      "name": "python",
      "nbconvert_exporter": "python",
      "pygments_lexer": "ipython3",
      "version": "3.11.7"
    }
  },
  "nbformat": 4,
  "nbformat_minor": 5
}